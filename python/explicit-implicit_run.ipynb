{
 "cells": [
  {
   "cell_type": "code",
   "execution_count": 1,
   "id": "8680dc2d",
   "metadata": {},
   "outputs": [],
   "source": [
    "import glob\n",
    "import os\n",
    "import numpy as np\n",
    "import matplotlib.pyplot as plt\n",
    "from matplotlib import cm\n",
    "import scipy\n",
    "from fooof import FOOOF\n",
    "from lagged_autocoherence import *\n",
    "import mne"
   ]
  },
  {
   "cell_type": "code",
   "execution_count": 2,
   "id": "793dbe7a",
   "metadata": {},
   "outputs": [],
   "source": [
    "freq_lims = [5,100]\n",
    "lags = np.arange(1,4,.1)\n",
    "\n",
    "def many_is_in(multiple, target):\n",
    "    check_ = []\n",
    "    for i in multiple:\n",
    "        check_.append(i in target)\n",
    "    return any(check_)\n",
    "\n",
    "sens = [\"MLC1\", \"MLC25\", \"MLC32\", \"MLC42\", \"MLC54\", \"MLC55\", \"MLC63\"]\n",
    "\n",
    "base_dir='/home/common/mszul/explicit_implicit_beta/derivatives/processed/'\n",
    "out_dir='/home/bonaiuto/lagged_hilbert_coherence/output/explicit-implicit/'"
   ]
  },
  {
   "cell_type": "code",
   "execution_count": null,
   "id": "fdc3cb84",
   "metadata": {
    "scrolled": true
   },
   "outputs": [
    {
     "name": "stdout",
     "output_type": "stream",
     "text": [
      "Reading /home/common/mszul/explicit_implicit_beta/derivatives/processed/sub-101/sub-101-002-motor-epo.fif ...\n",
      "    Read 5 compensation matrices\n",
      "    Found the data of interest:\n",
      "        t =   -1000.00 ...    1500.00 ms\n",
      "        5 CTF compensation matrices available\n",
      "Not setting metadata\n",
      "56 matching events found\n",
      "No baseline correction applied\n",
      "0 projection items activated\n",
      "Removing 5 compensators from info because not all compensation channels were picked.\n"
     ]
    },
    {
     "name": "stderr",
     "output_type": "stream",
     "text": [
      "Exception in thread ExecutorManagerThread:\n",
      "Traceback (most recent call last):\n",
      "  File \"/home/bonaiuto/miniconda3/envs/new_lc/lib/python3.10/threading.py\", line 1016, in _bootstrap_inner\n",
      "    self.run()\n",
      "  File \"/home/bonaiuto/miniconda3/envs/new_lc/lib/python3.10/site-packages/joblib/externals/loky/process_executor.py\", line 566, in run\n",
      "    self.terminate_broken(bpe)\n",
      "  File \"/home/bonaiuto/miniconda3/envs/new_lc/lib/python3.10/site-packages/joblib/externals/loky/process_executor.py\", line 750, in terminate_broken\n",
      "    self.kill_workers(reason=\"broken executor\")\n",
      "  File \"/home/bonaiuto/miniconda3/envs/new_lc/lib/python3.10/site-packages/joblib/externals/loky/process_executor.py\", line 781, in kill_workers\n",
      "    recursive_terminate(p)\n",
      "  File \"/home/bonaiuto/miniconda3/envs/new_lc/lib/python3.10/site-packages/joblib/externals/loky/backend/utils.py\", line 28, in recursive_terminate\n",
      "    _recursive_terminate_without_psutil(process)\n",
      "  File \"/home/bonaiuto/miniconda3/envs/new_lc/lib/python3.10/site-packages/joblib/externals/loky/backend/utils.py\", line 53, in _recursive_terminate_without_psutil\n",
      "    _recursive_terminate(process.pid)\n",
      "  File \"/home/bonaiuto/miniconda3/envs/new_lc/lib/python3.10/site-packages/joblib/externals/loky/backend/utils.py\", line 92, in _recursive_terminate\n",
      "    children_pids = subprocess.check_output(\n",
      "  File \"/home/bonaiuto/miniconda3/envs/new_lc/lib/python3.10/subprocess.py\", line 420, in check_output\n",
      "    return run(*popenargs, stdout=PIPE, timeout=timeout, check=True,\n",
      "  File \"/home/bonaiuto/miniconda3/envs/new_lc/lib/python3.10/subprocess.py\", line 524, in run\n",
      "    raise CalledProcessError(retcode, process.args,\n",
      "subprocess.CalledProcessError: Command '['pgrep', '-P', '10080']' died with <Signals.SIGINT: 2>.\n"
     ]
    }
   ],
   "source": [
    "sub_paths=sorted(glob.glob(os.path.join(base_dir,'sub-*')))\n",
    "for sub_idx, sub_path in enumerate(sub_paths):\n",
    "    sub=os.path.split(sub_path)[-1]\n",
    "    sub_out_path=os.path.join(out_dir,sub)\n",
    "    if not os.path.exists(sub_out_path):\n",
    "        os.mkdir(sub_out_path)\n",
    "\n",
    "    epo_paths=sorted(glob.glob(os.path.join(sub_path,'{}-*-epo.fif'.format(sub))))\n",
    "    for epo_path in epo_paths:\n",
    "        block_num=os.path.split(epo_path)[-1].split('-')[2]\n",
    "        epo_type=os.path.split(epo_path)[-1].split('-')[3]\n",
    "        if epo_type=='visual' or epo_type=='motor':\n",
    "            epo = mne.read_epochs(epo_path)\n",
    "            epo = epo.pick_types(meg=True, ref_meg=False,misc=False)\n",
    "\n",
    "            channels_used = [i for i in epo.info.ch_names if many_is_in([\"MLC\"], i)]\n",
    "            channels_used = [i for i in channels_used if not many_is_in(sens, i)]\n",
    "\n",
    "            fs=epo.info['sfreq']\n",
    "            epo_data=epo.get_data()\n",
    "            epo_data=np.moveaxis(epo_data,[0,1,2],[1,0,2])\n",
    "\n",
    "            psd=[]\n",
    "            lc=[]\n",
    "            chs=[]\n",
    "            for ch_idx in range(epo_data.shape[0]):\n",
    "                if epo.info['ch_names'][ch_idx] in channels_used:\n",
    "                    data=epo_data[ch_idx,:,:]\n",
    "                    chs.append(ch_idx)\n",
    "\n",
    "                    freqs,ch_psd=scipy.signal.welch(data, fs=fs, window='hann', \n",
    "                                                nperseg=int(fs), noverlap=int(fs/2), nfft=int(fs*2), detrend='constant', \n",
    "                                                return_onesided=True, scaling='density', axis=- 1, average='mean')\n",
    "                    f_idx=(freqs>=freq_lims[0]) & (freqs<=freq_lims[-1])\n",
    "                    freqs=freqs[f_idx]\n",
    "                    ch_psd=np.mean(ch_psd[:,f_idx],axis=0)\n",
    "\n",
    "                    ch_lc=lagged_hilbert_autocoherence(data, freqs, lags, fs, surr_method='phase', n_jobs=20)\n",
    "\n",
    "                    psd.append(ch_psd)\n",
    "                    lc.append(ch_lc)\n",
    "            chs=np.array(chs)\n",
    "            psd=np.array(psd)\n",
    "            lc=np.array(lc)\n",
    "\n",
    "            out_fname=os.path.join(sub_out_path,'{}-{}-{}.npz'.format(sub,block_num,epo_type))\n",
    "            np.savez(out_fname, \n",
    "                     **{          \n",
    "                         'chs': chs,\n",
    "                         'freqs': freqs,\n",
    "                         'lags': lags,\n",
    "                         'psd': psd,\n",
    "                         'lc': lc\n",
    "                        })"
   ]
  },
  {
   "cell_type": "code",
   "execution_count": null,
   "id": "2e00b8cf",
   "metadata": {},
   "outputs": [],
   "source": []
  }
 ],
 "metadata": {
  "kernelspec": {
   "display_name": "new_lc",
   "language": "python",
   "name": "new_lc"
  },
  "language_info": {
   "codemirror_mode": {
    "name": "ipython",
    "version": 3
   },
   "file_extension": ".py",
   "mimetype": "text/x-python",
   "name": "python",
   "nbconvert_exporter": "python",
   "pygments_lexer": "ipython3",
   "version": "3.10.6"
  }
 },
 "nbformat": 4,
 "nbformat_minor": 5
}
