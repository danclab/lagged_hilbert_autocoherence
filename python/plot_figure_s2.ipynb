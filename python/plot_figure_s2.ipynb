{
 "cells": [
  {
   "cell_type": "code",
   "execution_count": 1,
   "id": "eab4ab79",
   "metadata": {},
   "outputs": [],
   "source": [
    "import numpy as np\n",
    "import matplotlib.pyplot as plt\n",
    "import matplotlib.cm as cm\n",
    "from matplotlib.gridspec import GridSpec\n",
    "import scipy\n",
    "from lagged_autocoherence import lagged_hilbert_autocoherence\n",
    "from utils import scale_noise\n",
    "import colorednoise as cn"
   ]
  },
  {
   "cell_type": "code",
   "execution_count": 2,
   "id": "576e1141",
   "metadata": {},
   "outputs": [],
   "source": [
    "def gen_signal_bursts(T, n_trials, srate, f, n_cycles, num_bursts, snr_db):\n",
    "    dt=1/srate\n",
    "    time = np.linspace(0, T, T * srate)\n",
    "    signal=np.zeros((n_trials, len(time)))\n",
    "\n",
    "    for trial in range(n_trials):\n",
    "        # Burst signal\n",
    "        s1=np.zeros((len(time)))\n",
    "\n",
    "        # Keep track of burst start and stop times so they\n",
    "        # don't overlap\n",
    "        burst_starts=[]\n",
    "        burst_stops=[]\n",
    "\n",
    "        # Burst duration in seconds\n",
    "        dur_s=n_cycles/f\n",
    "        # Burst duration in time steps\n",
    "        dur_pts=int(dur_s/dt)\n",
    "\n",
    "        # Random start and stop time\n",
    "        start=np.random.randint(0,len(time)-dur_pts)\n",
    "        stop=start+dur_pts\n",
    "        s1[start:stop]=np.sin(2. * np.pi * f1 * (time[start:stop]-time[start]))\n",
    "        burst_starts.append(start)\n",
    "        burst_stops.append(stop)\n",
    "\n",
    "        while len(burst_starts)<num_bursts:\n",
    "            # Random start and stop time\n",
    "            start=np.random.randint(int(T/dt)-dur_pts)\n",
    "            stop=start+dur_pts\n",
    "\n",
    "            # Check that doesn't overlap with other bursts\n",
    "            overlap=False\n",
    "            for (other_start,other_stop) in zip(burst_starts,burst_stops):\n",
    "                if (start >= other_start and start < other_stop) or (stop > other_start and stop <= other_stop):\n",
    "                    overlap=True\n",
    "                    break\n",
    "\n",
    "            # Generate burst\n",
    "            if not overlap:\n",
    "                s1[start:stop]=np.sin(2. * np.pi * f1 * (time[start:stop]+np.random.randn()))\n",
    "                burst_starts.append(start)\n",
    "                burst_stops.append(stop)\n",
    "\n",
    "        # Generated signal\n",
    "        noise = cn.powerlaw_psd_gaussian(1, len(time))\n",
    "        scaled_noise = scale_noise(s1, noise, snr_db)\n",
    "        signal[trial,:]=s1+scaled_noise\n",
    "    return signal"
   ]
  },
  {
   "cell_type": "code",
   "execution_count": 3,
   "id": "70c83343",
   "metadata": {},
   "outputs": [],
   "source": [
    "# --- Generate signal and compute LHaC ---\n",
    "\n",
    "# Duration (s)\n",
    "T=10\n",
    "# Sampling rate\n",
    "srate=500\n",
    "time=np.linspace(0,T,T*srate)\n",
    "\n",
    "# Burst frequency\n",
    "f1 = 15\n",
    "# Length of bursts in cycles\n",
    "f1_num_cycles=5\n",
    "# Number of bursts\n",
    "f1_num_bursts=1\n",
    "\n",
    "n_trials=100\n",
    "\n",
    "snr_db = -10\n",
    "f_min = 5\n",
    "f_max = 100\n",
    "\n",
    "signal = gen_signal_bursts(T, n_trials, srate, f1, f1_num_cycles, f1_num_bursts, snr_db)\n",
    "\n",
    "freqs, psd = scipy.signal.welch(signal, fs=srate, window='hann',\n",
    "                                nperseg=srate, noverlap=int(srate / 2), nfft=srate * 2, detrend='constant',\n",
    "                                return_onesided=True, scaling='density', axis=- 1, average='mean')\n",
    "idx = (freqs >= f_min) & (freqs <= f_max)\n",
    "freqs = freqs[idx]\n",
    "psd = psd[:, idx]"
   ]
  },
  {
   "cell_type": "code",
   "execution_count": 4,
   "id": "626a0fa6",
   "metadata": {},
   "outputs": [],
   "source": [
    "fixed_cyc_inc=0.5\n",
    "max_cycles=[2,4,6,8,10]\n",
    "\n",
    "max_cycle_lhc=[]\n",
    "max_cycle_lags=[]\n",
    "for m in max_cycles:\n",
    "    lags = np.arange(fixed_cyc_inc, m+fixed_cyc_inc, fixed_cyc_inc)\n",
    "\n",
    "    lhc = lagged_hilbert_autocoherence(signal, freqs, lags, srate, n_jobs=-1)\n",
    "    max_cycle_lhc.append(lhc)\n",
    "    max_cycle_lags.append(lags)"
   ]
  },
  {
   "cell_type": "code",
   "execution_count": 5,
   "id": "442ffb06",
   "metadata": {},
   "outputs": [],
   "source": [
    "cyc_inc=[0.1, 0.5, 1, 2]\n",
    "fixed_max_cycles=10\n",
    "\n",
    "cyc_inc_lhc=[]\n",
    "cyc_inc_lags=[]\n",
    "for i in cyc_inc:\n",
    "    lags = np.arange(i, fixed_max_cycles+i, i)\n",
    "\n",
    "    lhc = lagged_hilbert_autocoherence(signal, freqs, lags, srate, n_jobs=-1)\n",
    "    cyc_inc_lhc.append(lhc)\n",
    "    cyc_inc_lags.append(lags)"
   ]
  },
  {
   "cell_type": "code",
   "execution_count": 9,
   "id": "c15273b6",
   "metadata": {},
   "outputs": [
    {
     "data": {
      "image/png": "[encoded data removed]",
      "text/plain": [
       "<Figure size 576x216 with 2 Axes>"
      ]
     },
     "metadata": {
      "needs_background": "light"
     },
     "output_type": "display_data"
    }
   ],
   "source": [
    "plt.rcParams.update({\n",
    "    'font.size': 14,\n",
    "    'axes.spines.right': False,\n",
    "    'axes.spines.top': False,\n",
    "    'xtick.major.size': 6,\n",
    "    'xtick.major.width': 1.2,\n",
    "    'ytick.major.size': 6,\n",
    "    'ytick.major.width': 1.2,\n",
    "    'legend.frameon': False,\n",
    "    'legend.handletextpad': 0.1,\n",
    "    'svg.fonttype': 'none',\n",
    "    'text.usetex': False\n",
    "})\n",
    "\n",
    "f_idx=np.argmin(np.abs(freqs-f1))\n",
    "\n",
    "fig=plt.figure(figsize=(8,3))\n",
    "ax=plt.subplot(1,2,1)\n",
    "colors = cm.cool(np.linspace(0, 1, len(max_cycles)))\n",
    "for idx in reversed(range(len(max_cycles))):\n",
    "    ax.plot(max_cycle_lags[idx], np.mean(max_cycle_lhc[idx][:,f_idx,:], axis=0), \n",
    "            color=colors[idx], label=f'{max_cycles[idx]}')\n",
    "plt.legend(title='Max lag (cycles)')\n",
    "ax.set_xlabel('Lag (cycles)')\n",
    "ax.set_ylabel('LHaC')\n",
    "    \n",
    "ax=plt.subplot(1,2,2)\n",
    "colors = cm.cool(np.linspace(0, 1, len(cyc_inc)))\n",
    "for idx in range(len(cyc_inc)):\n",
    "    ax.plot(cyc_inc_lags[idx], np.mean(cyc_inc_lhc[idx][:,f_idx,:], axis=0), \n",
    "            color=colors[idx], label=f'{cyc_inc[idx]}')\n",
    "plt.legend(title=r'$\\Delta$ lag (cycles)', loc='upper right')\n",
    "ax.set_xlabel('Lag (cycles)')\n",
    "\n",
    "plt.tight_layout()\n",
    "fig.savefig('../output/figures/figure_s2.pdf')"
   ]
  },
  {
   "cell_type": "code",
   "execution_count": null,
   "id": "05492eb1",
   "metadata": {},
   "outputs": [],
   "source": []
  }
 ],
 "metadata": {
  "kernelspec": {
   "display_name": "lhc",
   "language": "python",
   "name": "lhc"
  },
  "language_info": {
   "codemirror_mode": {
    "name": "ipython",
    "version": 3
   },
   "file_extension": ".py",
   "mimetype": "text/x-python",
   "name": "python",
   "nbconvert_exporter": "python",
   "pygments_lexer": "ipython3",
   "version": "3.10.6"
  }
 },
 "nbformat": 4,
 "nbformat_minor": 5
}
